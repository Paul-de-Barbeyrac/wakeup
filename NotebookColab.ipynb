{
  "nbformat": 4,
  "nbformat_minor": 0,
  "metadata": {
    "colab": {
      "name": "NotebookColab.ipynb",
      "provenance": [],
      "collapsed_sections": []
    },
    "kernelspec": {
      "name": "python3",
      "display_name": "Python 3"
    },
    "language_info": {
      "name": "python"
    }
  },
  "cells": [
    {
      "cell_type": "markdown",
      "metadata": {
        "id": "sVaA1M-dmPAO"
      },
      "source": [
        "Récupération des données\n",
        "\n"
      ]
    },
    {
      "cell_type": "code",
      "metadata": {
        "id": "wkSCbZQpXvN5",
        "colab": {
          "base_uri": "https://localhost:8080/"
        },
        "outputId": "b01dca7e-3a80-4cda-e159-640de71a5550"
      },
      "source": [
        "import numpy as np\n",
        "from google.colab import drive\n",
        "\n",
        "drive.mount('/content/gdrive')\n"
      ],
      "execution_count": null,
      "outputs": [
        {
          "output_type": "stream",
          "text": [
            "Drive already mounted at /content/gdrive; to attempt to forcibly remount, call drive.mount(\"/content/gdrive\", force_remount=True).\n"
          ],
          "name": "stdout"
        }
      ]
    },
    {
      "cell_type": "code",
      "metadata": {
        "colab": {
          "base_uri": "https://localhost:8080/"
        },
        "id": "qiifjnYg0pC-",
        "outputId": "614df925-f7b4-41c3-c3ee-d71d4cc91a25"
      },
      "source": [
        "!ls \"/content/gdrive/MyDrive/Colab Notebooks\""
      ],
      "execution_count": null,
      "outputs": [
        {
          "output_type": "stream",
          "text": [
            "eye_images_3x3.npy  eye_state.npy  NotebookColab.ipynb\n",
            "eye_images.npy\t    model.h5\n"
          ],
          "name": "stdout"
        }
      ]
    },
    {
      "cell_type": "code",
      "metadata": {
        "id": "uHYOz9Kv1s_n"
      },
      "source": [
        "y = np.load('/content/gdrive/MyDrive/Colab Notebooks/eye_state.npy')"
      ],
      "execution_count": null,
      "outputs": []
    },
    {
      "cell_type": "code",
      "metadata": {
        "colab": {
          "base_uri": "https://localhost:8080/"
        },
        "id": "o8baQUCU2veg",
        "outputId": "d1983441-eab0-4c71-97bf-e379d7ecee40"
      },
      "source": [
        "y.shape"
      ],
      "execution_count": null,
      "outputs": [
        {
          "output_type": "execute_result",
          "data": {
            "text/plain": [
              "(84898,)"
            ]
          },
          "metadata": {
            "tags": []
          },
          "execution_count": 26
        }
      ]
    },
    {
      "cell_type": "code",
      "metadata": {
        "id": "5WPRy_Xh2zFL"
      },
      "source": [
        "img = np.load('/content/gdrive/MyDrive/Colab Notebooks/eye_images.npy')"
      ],
      "execution_count": null,
      "outputs": []
    },
    {
      "cell_type": "code",
      "metadata": {
        "colab": {
          "base_uri": "https://localhost:8080/"
        },
        "id": "MpCHWuOlHhpq",
        "outputId": "d64c359e-7190-4920-9537-f92a4dfe7900"
      },
      "source": [
        "img.shape"
      ],
      "execution_count": null,
      "outputs": [
        {
          "output_type": "execute_result",
          "data": {
            "text/plain": [
              "(84898, 28, 28)"
            ]
          },
          "metadata": {
            "tags": []
          },
          "execution_count": 28
        }
      ]
    },
    {
      "cell_type": "code",
      "metadata": {
        "colab": {
          "base_uri": "https://localhost:8080/"
        },
        "id": "iNkDR1_tpXyi",
        "outputId": "bbd16471-a3cf-460e-c7a4-958877a4f93b"
      },
      "source": [
        "X = np.expand_dims(img, axis=3)\n",
        "X.shape"
      ],
      "execution_count": 96,
      "outputs": [
        {
          "output_type": "execute_result",
          "data": {
            "text/plain": [
              "(84898, 28, 28, 1)"
            ]
          },
          "metadata": {
            "tags": []
          },
          "execution_count": 96
        }
      ]
    },
    {
      "cell_type": "markdown",
      "metadata": {
        "id": "Duiq8ceHmi41"
      },
      "source": [
        "Modèle de CNN "
      ]
    },
    {
      "cell_type": "code",
      "metadata": {
        "id": "SHGU5JPJHjZh"
      },
      "source": [
        "from tensorflow.keras import Sequential, layers\n",
        "from tensorflow.keras.layers import Conv2D, MaxPooling2D, Flatten, Dropout, Dense\n",
        "\n",
        "def initialize_model():\n",
        "    model = Sequential()\n",
        "    model.add(Conv2D(32, (3, 3), activation='relu', padding='same', input_shape=(28, 28, 1)))\n",
        "    #model.add(Conv2D(32, (3, 3), activation='relu', padding='same'))\n",
        "    model.add(MaxPooling2D((2, 2)))\n",
        "    model.add(Dropout(0.2))\n",
        "    model.add(Conv2D(64, (3, 3), activation='relu', padding='same'))\n",
        "    #model.add(Conv2D(64, (3, 3), activation='relu', padding='same'))\n",
        "    model.add(MaxPooling2D((2, 2)))\n",
        "    model.add(Dropout(0.2))\n",
        "    model.add(Conv2D(128, (2, 2), activation='relu', padding='same'))\n",
        "    #model.add(Conv2D(128, (3, 3), activation='relu', padding='same'))\n",
        "    model.add(Dropout(0.3))\n",
        "    model.add(MaxPooling2D((2, 2)))\n",
        "    \n",
        "    model.add(Flatten())\n",
        "    model.add(Dense(100, activation='relu'))\n",
        "    model.add(Dropout(0.4))\n",
        "    model.add(Dense(1, activation='sigmoid'))\n",
        "    \n",
        "    return model\n",
        "\n",
        "\n",
        "def initialize_model_simple():\n",
        "    model = Sequential()\n",
        "    model.add(Conv2D(32, (3, 3), activation='relu', padding='same', input_shape=(28, 28, 3)))\n",
        "    model.add(MaxPooling2D((2, 2)))\n",
        "    model.add(Conv2D(64, (3, 3), activation='relu', padding='same'))\n",
        "    model.add(MaxPooling2D((2, 2)))\n",
        "    \n",
        "    model.add(Flatten())\n",
        "    model.add(Dense(100, activation='relu'))\n",
        "    model.add(Dense(1, activation='sigmoid'))\n",
        "    \n",
        "    return model"
      ],
      "execution_count": null,
      "outputs": []
    },
    {
      "cell_type": "code",
      "metadata": {
        "colab": {
          "base_uri": "https://localhost:8080/"
        },
        "id": "o0QiyhGUIIQC",
        "outputId": "7286d57c-a810-4dee-eb5e-9d17a99722c7"
      },
      "source": [
        "model = initialize_model()\n",
        "model.summary()"
      ],
      "execution_count": null,
      "outputs": [
        {
          "output_type": "stream",
          "text": [
            "Model: \"sequential_1\"\n",
            "_________________________________________________________________\n",
            "Layer (type)                 Output Shape              Param #   \n",
            "=================================================================\n",
            "conv2d_3 (Conv2D)            (None, 28, 28, 32)        320       \n",
            "_________________________________________________________________\n",
            "max_pooling2d_3 (MaxPooling2 (None, 14, 14, 32)        0         \n",
            "_________________________________________________________________\n",
            "dropout_4 (Dropout)          (None, 14, 14, 32)        0         \n",
            "_________________________________________________________________\n",
            "conv2d_4 (Conv2D)            (None, 14, 14, 64)        18496     \n",
            "_________________________________________________________________\n",
            "max_pooling2d_4 (MaxPooling2 (None, 7, 7, 64)          0         \n",
            "_________________________________________________________________\n",
            "dropout_5 (Dropout)          (None, 7, 7, 64)          0         \n",
            "_________________________________________________________________\n",
            "conv2d_5 (Conv2D)            (None, 7, 7, 128)         32896     \n",
            "_________________________________________________________________\n",
            "dropout_6 (Dropout)          (None, 7, 7, 128)         0         \n",
            "_________________________________________________________________\n",
            "max_pooling2d_5 (MaxPooling2 (None, 3, 3, 128)         0         \n",
            "_________________________________________________________________\n",
            "flatten_1 (Flatten)          (None, 1152)              0         \n",
            "_________________________________________________________________\n",
            "dense_2 (Dense)              (None, 100)               115300    \n",
            "_________________________________________________________________\n",
            "dropout_7 (Dropout)          (None, 100)               0         \n",
            "_________________________________________________________________\n",
            "dense_3 (Dense)              (None, 1)                 101       \n",
            "=================================================================\n",
            "Total params: 167,113\n",
            "Trainable params: 167,113\n",
            "Non-trainable params: 0\n",
            "_________________________________________________________________\n"
          ],
          "name": "stdout"
        }
      ]
    },
    {
      "cell_type": "code",
      "metadata": {
        "id": "XQOVjmSUIPd2"
      },
      "source": [
        "from tensorflow.keras import optimizers\n",
        "\n",
        "def compile_model(model):\n",
        "    model.compile(loss='binary_crossentropy',\n",
        "                  optimizer='adam',\n",
        "                  metrics=['accuracy'])\n",
        "    return model"
      ],
      "execution_count": null,
      "outputs": []
    },
    {
      "cell_type": "code",
      "metadata": {
        "id": "S8yccy_6ItVn"
      },
      "source": [
        "from tensorflow.keras.callbacks import EarlyStopping\n",
        "\n",
        "model_small = compile_model(model)"
      ],
      "execution_count": null,
      "outputs": []
    },
    {
      "cell_type": "markdown",
      "metadata": {
        "id": "oASiaCwFqCpR"
      },
      "source": [
        "Séparation X_train / X_test"
      ]
    },
    {
      "cell_type": "code",
      "metadata": {
        "id": "vP0gX0laYEY1"
      },
      "source": [
        "from sklearn.model_selection import train_test_split\n",
        "X_train, X_test, y_train, y_test = train_test_split(X, y)"
      ],
      "execution_count": null,
      "outputs": []
    },
    {
      "cell_type": "code",
      "metadata": {
        "colab": {
          "base_uri": "https://localhost:8080/"
        },
        "id": "UtltpN-Ymx_e",
        "outputId": "c549a517-f02e-4782-9172-c3c5f7a478a5"
      },
      "source": [
        "X_train.shape"
      ],
      "execution_count": 76,
      "outputs": [
        {
          "output_type": "execute_result",
          "data": {
            "text/plain": [
              "(63673, 28, 28, 1)"
            ]
          },
          "metadata": {
            "tags": []
          },
          "execution_count": 76
        }
      ]
    },
    {
      "cell_type": "code",
      "metadata": {
        "colab": {
          "base_uri": "https://localhost:8080/"
        },
        "id": "8by0N5nzTC_I",
        "outputId": "451f8bd4-0b7d-4d47-cf5d-6b19a5816ae5"
      },
      "source": [
        "reduction_factor = 1\n",
        "\n",
        "idx_train =  np.random.choice(len(X_train), round(len(X_train)/reduction_factor))\n",
        "\n",
        "images_train_small = X_train[idx_train]\n",
        "labels_train_small = y_train[idx_train]\n",
        "\n",
        "print(images_train_small.shape)\n",
        "print(labels_train_small.shape)\n",
        "print(type(images_train_small))\n",
        "print(type(labels_train_small))"
      ],
      "execution_count": null,
      "outputs": [
        {
          "output_type": "stream",
          "text": [
            "(63673, 28, 28, 1)\n",
            "(63673,)\n",
            "<class 'numpy.ndarray'>\n",
            "<class 'numpy.ndarray'>\n"
          ],
          "name": "stdout"
        }
      ]
    },
    {
      "cell_type": "code",
      "metadata": {
        "colab": {
          "base_uri": "https://localhost:8080/"
        },
        "id": "5uZWNextTk2M",
        "outputId": "681dff49-b21c-4fa8-f210-00d297bdd652"
      },
      "source": [
        "y"
      ],
      "execution_count": null,
      "outputs": [
        {
          "output_type": "execute_result",
          "data": {
            "text/plain": [
              "array([0, 0, 0, ..., 1, 1, 1])"
            ]
          },
          "metadata": {
            "tags": []
          },
          "execution_count": 53
        }
      ]
    },
    {
      "cell_type": "markdown",
      "metadata": {
        "id": "B-W630TyqNb4"
      },
      "source": [
        "Entrainement du modèle"
      ]
    },
    {
      "cell_type": "code",
      "metadata": {
        "colab": {
          "base_uri": "https://localhost:8080/"
        },
        "id": "nXwfczajI4ch",
        "outputId": "d673a1c8-033b-4412-8d94-568f66f183ae"
      },
      "source": [
        "es = EarlyStopping(patience=5, verbose=2, restore_best_weights=True)\n",
        "\n",
        "history_small = model_small.fit(images_train_small, labels_train_small, \n",
        "                    validation_split=0.3,\n",
        "                    callbacks=[es], \n",
        "                    epochs=100, \n",
        "                    batch_size=64)"
      ],
      "execution_count": 54,
      "outputs": [
        {
          "output_type": "stream",
          "text": [
            "Epoch 1/100\n",
            "697/697 [==============================] - 80s 113ms/step - loss: 0.2881 - accuracy: 0.8775 - val_loss: 0.1654 - val_accuracy: 0.9464\n",
            "Epoch 2/100\n",
            "697/697 [==============================] - 78s 112ms/step - loss: 0.1449 - accuracy: 0.9460 - val_loss: 0.1282 - val_accuracy: 0.9542\n",
            "Epoch 3/100\n",
            "697/697 [==============================] - 77s 111ms/step - loss: 0.1154 - accuracy: 0.9573 - val_loss: 0.0895 - val_accuracy: 0.9698\n",
            "Epoch 4/100\n",
            "697/697 [==============================] - 78s 112ms/step - loss: 0.0995 - accuracy: 0.9634 - val_loss: 0.0672 - val_accuracy: 0.9754\n",
            "Epoch 5/100\n",
            "697/697 [==============================] - 83s 120ms/step - loss: 0.0875 - accuracy: 0.9676 - val_loss: 0.0677 - val_accuracy: 0.9758\n",
            "Epoch 6/100\n",
            "697/697 [==============================] - 79s 113ms/step - loss: 0.0819 - accuracy: 0.9701 - val_loss: 0.0576 - val_accuracy: 0.9799\n",
            "Epoch 7/100\n",
            "697/697 [==============================] - 79s 113ms/step - loss: 0.0726 - accuracy: 0.9734 - val_loss: 0.0584 - val_accuracy: 0.9787\n",
            "Epoch 8/100\n",
            "697/697 [==============================] - 78s 113ms/step - loss: 0.0698 - accuracy: 0.9738 - val_loss: 0.0533 - val_accuracy: 0.9807\n",
            "Epoch 9/100\n",
            "697/697 [==============================] - 78s 112ms/step - loss: 0.0661 - accuracy: 0.9757 - val_loss: 0.0468 - val_accuracy: 0.9833\n",
            "Epoch 10/100\n",
            "697/697 [==============================] - 78s 112ms/step - loss: 0.0629 - accuracy: 0.9770 - val_loss: 0.0410 - val_accuracy: 0.9864\n",
            "Epoch 11/100\n",
            "697/697 [==============================] - 78s 112ms/step - loss: 0.0575 - accuracy: 0.9784 - val_loss: 0.0452 - val_accuracy: 0.9840\n",
            "Epoch 12/100\n",
            "697/697 [==============================] - 78s 112ms/step - loss: 0.0576 - accuracy: 0.9792 - val_loss: 0.0405 - val_accuracy: 0.9851\n",
            "Epoch 13/100\n",
            "697/697 [==============================] - 81s 116ms/step - loss: 0.0549 - accuracy: 0.9797 - val_loss: 0.0358 - val_accuracy: 0.9866\n",
            "Epoch 14/100\n",
            "697/697 [==============================] - 79s 113ms/step - loss: 0.0517 - accuracy: 0.9804 - val_loss: 0.0357 - val_accuracy: 0.9881\n",
            "Epoch 15/100\n",
            "697/697 [==============================] - 79s 113ms/step - loss: 0.0514 - accuracy: 0.9813 - val_loss: 0.0395 - val_accuracy: 0.9857\n",
            "Epoch 16/100\n",
            "697/697 [==============================] - 79s 113ms/step - loss: 0.0502 - accuracy: 0.9822 - val_loss: 0.0321 - val_accuracy: 0.9884\n",
            "Epoch 17/100\n",
            "697/697 [==============================] - 78s 112ms/step - loss: 0.0478 - accuracy: 0.9829 - val_loss: 0.0354 - val_accuracy: 0.9873\n",
            "Epoch 18/100\n",
            "697/697 [==============================] - 78s 112ms/step - loss: 0.0453 - accuracy: 0.9833 - val_loss: 0.0366 - val_accuracy: 0.9871\n",
            "Epoch 19/100\n",
            "697/697 [==============================] - 78s 112ms/step - loss: 0.0475 - accuracy: 0.9830 - val_loss: 0.0311 - val_accuracy: 0.9893\n",
            "Epoch 20/100\n",
            "697/697 [==============================] - 79s 113ms/step - loss: 0.0438 - accuracy: 0.9831 - val_loss: 0.0358 - val_accuracy: 0.9870\n",
            "Epoch 21/100\n",
            "697/697 [==============================] - 78s 112ms/step - loss: 0.0418 - accuracy: 0.9846 - val_loss: 0.0285 - val_accuracy: 0.9898\n",
            "Epoch 22/100\n",
            "697/697 [==============================] - 78s 111ms/step - loss: 0.0423 - accuracy: 0.9847 - val_loss: 0.0328 - val_accuracy: 0.9873\n",
            "Epoch 23/100\n",
            "697/697 [==============================] - 78s 111ms/step - loss: 0.0423 - accuracy: 0.9845 - val_loss: 0.0343 - val_accuracy: 0.9872\n",
            "Epoch 24/100\n",
            "697/697 [==============================] - 77s 110ms/step - loss: 0.0413 - accuracy: 0.9854 - val_loss: 0.0270 - val_accuracy: 0.9910\n",
            "Epoch 25/100\n",
            "697/697 [==============================] - 76s 110ms/step - loss: 0.0409 - accuracy: 0.9853 - val_loss: 0.0272 - val_accuracy: 0.9901\n",
            "Epoch 26/100\n",
            "697/697 [==============================] - 79s 113ms/step - loss: 0.0369 - accuracy: 0.9866 - val_loss: 0.0294 - val_accuracy: 0.9887\n",
            "Epoch 27/100\n",
            "697/697 [==============================] - 78s 111ms/step - loss: 0.0378 - accuracy: 0.9860 - val_loss: 0.0276 - val_accuracy: 0.9906\n",
            "Epoch 28/100\n",
            "697/697 [==============================] - 78s 111ms/step - loss: 0.0381 - accuracy: 0.9861 - val_loss: 0.0267 - val_accuracy: 0.9902\n",
            "Epoch 29/100\n",
            "697/697 [==============================] - 77s 111ms/step - loss: 0.0386 - accuracy: 0.9858 - val_loss: 0.0287 - val_accuracy: 0.9895\n",
            "Epoch 30/100\n",
            "697/697 [==============================] - 77s 110ms/step - loss: 0.0368 - accuracy: 0.9865 - val_loss: 0.0266 - val_accuracy: 0.9898\n",
            "Epoch 31/100\n",
            "697/697 [==============================] - 79s 113ms/step - loss: 0.0352 - accuracy: 0.9863 - val_loss: 0.0277 - val_accuracy: 0.9899\n",
            "Epoch 32/100\n",
            "697/697 [==============================] - 79s 114ms/step - loss: 0.0355 - accuracy: 0.9865 - val_loss: 0.0257 - val_accuracy: 0.9910\n",
            "Epoch 33/100\n",
            "697/697 [==============================] - 80s 115ms/step - loss: 0.0352 - accuracy: 0.9873 - val_loss: 0.0256 - val_accuracy: 0.9916\n",
            "Epoch 34/100\n",
            "697/697 [==============================] - 79s 114ms/step - loss: 0.0349 - accuracy: 0.9874 - val_loss: 0.0270 - val_accuracy: 0.9900\n",
            "Epoch 35/100\n",
            "697/697 [==============================] - 79s 113ms/step - loss: 0.0349 - accuracy: 0.9877 - val_loss: 0.0250 - val_accuracy: 0.9909\n",
            "Epoch 36/100\n",
            "697/697 [==============================] - 78s 112ms/step - loss: 0.0343 - accuracy: 0.9875 - val_loss: 0.0243 - val_accuracy: 0.9910\n",
            "Epoch 37/100\n",
            "697/697 [==============================] - 76s 109ms/step - loss: 0.0348 - accuracy: 0.9874 - val_loss: 0.0260 - val_accuracy: 0.9906\n",
            "Epoch 38/100\n",
            "697/697 [==============================] - 76s 109ms/step - loss: 0.0324 - accuracy: 0.9879 - val_loss: 0.0238 - val_accuracy: 0.9908\n",
            "Epoch 39/100\n",
            "697/697 [==============================] - 78s 112ms/step - loss: 0.0327 - accuracy: 0.9884 - val_loss: 0.0233 - val_accuracy: 0.9913\n",
            "Epoch 40/100\n",
            "697/697 [==============================] - 78s 111ms/step - loss: 0.0324 - accuracy: 0.9884 - val_loss: 0.0219 - val_accuracy: 0.9918\n",
            "Epoch 41/100\n",
            "697/697 [==============================] - 77s 111ms/step - loss: 0.0321 - accuracy: 0.9877 - val_loss: 0.0268 - val_accuracy: 0.9905\n",
            "Epoch 42/100\n",
            "697/697 [==============================] - 77s 111ms/step - loss: 0.0321 - accuracy: 0.9883 - val_loss: 0.0242 - val_accuracy: 0.9919\n",
            "Epoch 43/100\n",
            "697/697 [==============================] - 77s 111ms/step - loss: 0.0297 - accuracy: 0.9886 - val_loss: 0.0291 - val_accuracy: 0.9894\n",
            "Epoch 44/100\n",
            "697/697 [==============================] - 78s 112ms/step - loss: 0.0318 - accuracy: 0.9883 - val_loss: 0.0231 - val_accuracy: 0.9918\n",
            "Epoch 45/100\n",
            "697/697 [==============================] - 78s 111ms/step - loss: 0.0313 - accuracy: 0.9881 - val_loss: 0.0247 - val_accuracy: 0.9907\n",
            "Epoch 00045: early stopping\n"
          ],
          "name": "stdout"
        }
      ]
    },
    {
      "cell_type": "code",
      "metadata": {
        "colab": {
          "base_uri": "https://localhost:8080/"
        },
        "id": "gN8czT2mU0S2",
        "outputId": "581455fc-b50f-46d8-a346-93613d564807"
      },
      "source": [
        "y.shape"
      ],
      "execution_count": 77,
      "outputs": [
        {
          "output_type": "execute_result",
          "data": {
            "text/plain": [
              "(84898,)"
            ]
          },
          "metadata": {
            "tags": []
          },
          "execution_count": 77
        }
      ]
    },
    {
      "cell_type": "markdown",
      "metadata": {
        "id": "eLeejtzVE7GV"
      },
      "source": [
        "Learning curves"
      ]
    },
    {
      "cell_type": "code",
      "metadata": {
        "id": "Im3bARM-Putx"
      },
      "source": [
        "def plot_history(history, title='', axs=None, exp_name=\"\"):\n",
        "    if axs is not None:\n",
        "        ax1, ax2 = axs\n",
        "    else:\n",
        "        f, (ax1, ax2) = plt.subplots(1, 2, figsize=(12, 4))\n",
        "    \n",
        "    if len(exp_name) > 0 and exp_name[0] != '_':\n",
        "        exp_name = '_' + exp_name\n",
        "    ax1.plot(history.history['loss'], label='train' + exp_name)\n",
        "    ax1.plot(history.history['val_loss'], label='val' + exp_name)\n",
        "    ax1.set_ylim(0., 2.2)\n",
        "    ax1.set_title('loss')\n",
        "    ax1.legend()\n",
        "\n",
        "    ax2.plot(history.history['accuracy'], label='train accuracy'  + exp_name)\n",
        "    ax2.plot(history.history['val_accuracy'], label='val accuracy'  + exp_name)\n",
        "    ax2.set_ylim(0.25, 1.)\n",
        "    ax2.set_title('Accuracy')\n",
        "    ax2.legend()\n",
        "    return (ax1, ax2)"
      ],
      "execution_count": 57,
      "outputs": []
    },
    {
      "cell_type": "code",
      "metadata": {
        "colab": {
          "base_uri": "https://localhost:8080/",
          "height": 281
        },
        "id": "kRNxQVs1R_Nh",
        "outputId": "9960dffb-230d-48fc-d46c-a172a734f49d"
      },
      "source": [
        "import matplotlib.pyplot as plt\n",
        "plot_history(history_small)\n",
        "plt.show()"
      ],
      "execution_count": 58,
      "outputs": [
        {
          "output_type": "display_data",
          "data": {
            "image/png": "[encoded data removed]",
            "text/plain": [
              "<Figure size 864x288 with 2 Axes>"
            ]
          },
          "metadata": {
            "tags": [],
            "needs_background": "light"
          }
        }
      ]
    },
    {
      "cell_type": "markdown",
      "metadata": {
        "id": "pK8JTRJkFEEx"
      },
      "source": [
        "Evaluation results"
      ]
    },
    {
      "cell_type": "code",
      "metadata": {
        "colab": {
          "base_uri": "https://localhost:8080/"
        },
        "id": "qdFIDWmdSAKj",
        "outputId": "9cab97e1-20c5-4eea-c5ae-a46a21b427b3"
      },
      "source": [
        "res = model_small.evaluate(X_test, y_test, verbose=0)\n",
        "res"
      ],
      "execution_count": 105,
      "outputs": [
        {
          "output_type": "execute_result",
          "data": {
            "text/plain": [
              "[0.0327405110001564, 0.9872791767120361]"
            ]
          },
          "metadata": {
            "tags": []
          },
          "execution_count": 105
        }
      ]
    },
    {
      "cell_type": "code",
      "metadata": {
        "id": "jeQXkBc-muqn",
        "colab": {
          "base_uri": "https://localhost:8080/"
        },
        "outputId": "e65bf670-f739-4f14-b07f-2548b37cab25"
      },
      "source": [
        "import pandas as pd\n",
        "y_pred = model_small.predict(X_test)\n",
        "y_pred"
      ],
      "execution_count": 107,
      "outputs": [
        {
          "output_type": "execute_result",
          "data": {
            "text/plain": [
              "array([[1.0000000e+00],\n",
              "       [8.1679225e-04],\n",
              "       [1.0000000e+00],\n",
              "       ...,\n",
              "       [1.0000000e+00],\n",
              "       [4.0371619e-06],\n",
              "       [3.6966685e-06]], dtype=float32)"
            ]
          },
          "metadata": {
            "tags": []
          },
          "execution_count": 107
        }
      ]
    },
    {
      "cell_type": "code",
      "metadata": {
        "id": "FBDDjMP6qquh"
      },
      "source": [
        "def binarize(predictions):\n",
        "  return [1 if p > 0.5 else 0 for p in predictions]\n",
        "\n",
        "y_pred_binarized = binarize(y_pred)"
      ],
      "execution_count": 110,
      "outputs": []
    },
    {
      "cell_type": "code",
      "metadata": {
        "colab": {
          "base_uri": "https://localhost:8080/",
          "height": 284
        },
        "id": "qnVTyDSMHSfj",
        "outputId": "fe2a1dc0-415a-44a9-b7d0-cabe1f3f5dae"
      },
      "source": [
        "j=0\n",
        "plt.imshow(X_test[j][:,:,0])\n",
        "print(y_pred[j], y_test[j])"
      ],
      "execution_count": 123,
      "outputs": [
        {
          "output_type": "stream",
          "text": [
            "[1.] 1\n"
          ],
          "name": "stdout"
        },
        {
          "output_type": "display_data",
          "data": {
            "image/png": "[encoded data removed]",
            "text/plain": [
              "<Figure size 432x288 with 1 Axes>"
            ]
          },
          "metadata": {
            "tags": [],
            "needs_background": "light"
          }
        }
      ]
    },
    {
      "cell_type": "markdown",
      "metadata": {
        "id": "ACdeAE8MqhJ2"
      },
      "source": [
        "Enregistrement du modèle"
      ]
    },
    {
      "cell_type": "code",
      "metadata": {
        "id": "VUDuWFt84eN1"
      },
      "source": [
        "model_small.save(\"/content/gdrive/MyDrive/Colab Notebooks/model.h5\")"
      ],
      "execution_count": 124,
      "outputs": []
    },
    {
      "cell_type": "code",
      "metadata": {
        "id": "DDzOT4dylsS1"
      },
      "source": [
        "from tensorflow import keras as K\n",
        "\n",
        "model_loaded2 = K.models.load_model(\"/content/gdrive/MyDrive/Colab Notebooks/model.h5\")"
      ],
      "execution_count": 125,
      "outputs": []
    },
    {
      "cell_type": "code",
      "metadata": {
        "id": "tg1g2t2e5F_t"
      },
      "source": [
        "y_pred2 = model_loaded2.predict(X_test)"
      ],
      "execution_count": 126,
      "outputs": []
    },
    {
      "cell_type": "code",
      "metadata": {
        "colab": {
          "base_uri": "https://localhost:8080/"
        },
        "id": "ANd39Ro7_Wvr",
        "outputId": "10c36630-49bb-4f24-cc0a-01e148d2ffff"
      },
      "source": [
        "y_pred2"
      ],
      "execution_count": 127,
      "outputs": [
        {
          "output_type": "execute_result",
          "data": {
            "text/plain": [
              "array([[1.0000000e+00],\n",
              "       [8.1679225e-04],\n",
              "       [1.0000000e+00],\n",
              "       ...,\n",
              "       [1.0000000e+00],\n",
              "       [4.0371619e-06],\n",
              "       [3.6966685e-06]], dtype=float32)"
            ]
          },
          "metadata": {
            "tags": []
          },
          "execution_count": 127
        }
      ]
    },
    {
      "cell_type": "code",
      "metadata": {
        "id": "6yTfRH-z_bfI"
      },
      "source": [
        "def binarize(predictions):\n",
        "  return [1 if p > 0.5 else 0 for p in predictions]\n",
        "\n",
        "predictions = model.predict(X_test)\n",
        "\n",
        "y_pred_binarized = binarize(predictions)"
      ],
      "execution_count": 128,
      "outputs": []
    }
  ]
}