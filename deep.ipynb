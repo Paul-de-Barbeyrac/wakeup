{
 "nbformat": 4,
 "nbformat_minor": 0,
 "metadata": {
  "colab": {
   "name": "deep.ipynb",
   "provenance": [],
   "collapsed_sections": [],
   "toc_visible": true
  },
  "kernelspec": {
   "display_name": "Python 3",
   "language": "python",
   "name": "python3"
  },
  "language_info": {
   "codemirror_mode": {
    "name": "ipython",
    "version": 3
   },
   "file_extension": ".py",
   "mimetype": "text/x-python",
   "name": "python",
   "nbconvert_exporter": "python",
   "pygments_lexer": "ipython3",
   "version": "3.8.6"
  },
  "toc": {
   "base_numbering": 1,
   "nav_menu": {},
   "number_sections": true,
   "sideBar": true,
   "skip_h1_title": false,
   "title_cell": "Table of Contents",
   "title_sidebar": "Contents",
   "toc_cell": false,
   "toc_position": {},
   "toc_section_display": true,
   "toc_window_display": false
  }
 },
 "cells": [
  {
   "cell_type": "code",
   "metadata": {
    "id": "H9j2fyzTOf_M"
   },
   "source": [
    "import matplotlib.pyplot as plt\n",
    "import numpy as np\n",
    "from skimage.transform import resize\n",
    "import cv2\n",
    "import glob\n",
    "from tempfile import TemporaryFile"
   ],
   "execution_count": 20,
   "outputs": []
  },
  {
   "cell_type": "code",
   "metadata": {
    "id": "vJuptUEDOoL-"
   },
   "source": [
    "# in case folder already present\n",
    "import shutil\n",
    "shutil.rmtree('dataset')"
   ],
   "execution_count": 14,
   "outputs": []
  },
  {
   "cell_type": "code",
   "metadata": {
    "id": "Xb_Ruvu4Uoh2"
   },
   "source": [
    "!curl http://mrl.cs.vsb.cz/data/eyedataset/mrlEyes_2018_01.zip --output data.zip\n",
    "!unzip data.zip\n",
    "!mv mrlEyes_2018_01 dataset\n",
    "!rm dataset/stats_2018_01.ods\n",
    "!rm data.zip;"
   ],
   "execution_count": null,
   "outputs": []
  },
  {
   "cell_type": "code",
   "metadata": {
    "id": "Hd1oB_E0Of_T"
   },
   "source": [
    "images = []\n",
    "for filepath in glob.iglob('dataset/*/*.png'):\n",
    "    img = cv2.imread(filepath)\n",
    "    image_resized = resize(img, (28, 28),anti_aliasing=True)\n",
    "    if img is not None: # in case unable to open file\n",
    "        images.append(image_resized)"
   ],
   "execution_count": 16,
   "outputs": []
  },
  {
   "cell_type": "code",
   "metadata": {
    "id": "ZcXogv6WOf_b",
    "colab": {
     "base_uri": "https://localhost:8080/"
    },
    "outputId": "44349f32-39e1-48da-f82f-00a03720089d"
   },
   "source": [
    "from google.colab import drive\n",
    "drive.mount('/content/drive')"
   ],
   "execution_count": 24,
   "outputs": [
    {
     "output_type": "stream",
     "text": [
      "Mounted at /content/drive\n"
     ],
     "name": "stdout"
    }
   ]
  },
  {
   "cell_type": "code",
   "metadata": {
    "id": "0z9AYNrqXmYZ"
   },
   "source": [
    "np.save('/content/drive/My Drive/eye_dataset/resized.npy', images)"
   ],
   "execution_count": 29,
   "outputs": []
  },
  {
   "cell_type": "code",
   "metadata": {
    "id": "N8F-OBqmXZ6_"
   },
   "source": [
    "resized_images= np.load('/content/drive/My Drive/eye_dataset/resized.npy')"
   ],
   "execution_count": 37,
   "outputs": []
  },
  {
   "cell_type": "code",
   "metadata": {
    "colab": {
     "base_uri": "https://localhost:8080/",
     "height": 282
    },
    "id": "bTLZ4WVCaPOK",
    "outputId": "ae1a4512-9f80-42f5-ca5b-f215e888a43b"
   },
   "source": [
    "plt.imshow(resized_images[10])"
   ],
   "execution_count": 39,
   "outputs": [
    {
     "output_type": "execute_result",
     "data": {
      "text/plain": [
       "<matplotlib.image.AxesImage at 0x7f6fe728f410>"
      ]
     },
     "metadata": {
      "tags": []
     },
     "execution_count": 39
    },
    {
     "output_type": "display_data",
     "data": {
      "image/png": "[encoded data removed]",
      "text/plain": [
       "<Figure size 432x288 with 1 Axes>"
      ]
     },
     "metadata": {
      "tags": [],
      "needs_background": "light"
     }
    }
   ]
  },
  {
   "cell_type": "code",
   "metadata": {
    "colab": {
     "base_uri": "https://localhost:8080/"
    },
    "id": "urIYakDabbJX",
    "outputId": "785847be-c380-4dfb-cf61-cb12885217b7"
   },
   "source": [
    "resized_images[10000][27][0] # First index is image number out of 80000, second index is row, third index is column. Return array correspond to color already normalized"
   ],
   "execution_count": 53,
   "outputs": [
    {
     "output_type": "execute_result",
     "data": {
      "text/plain": [
       "array([0.27843137, 0.27843137, 0.27843137])"
      ]
     },
     "metadata": {
      "tags": []
     },
     "execution_count": 53
    }
   ]
  },
  {
   "cell_type": "code",
   "metadata": {
    "colab": {
     "base_uri": "https://localhost:8080/"
    },
    "id": "hcHzInELboIn",
    "outputId": "45b4abc3-9f9a-4950-aefe-1d206a28cdf1"
   },
   "source": [
    "np.min(resized_images)"
   ],
   "execution_count": 56,
   "outputs": [
    {
     "output_type": "execute_result",
     "data": {
      "text/plain": [
       "0.0"
      ]
     },
     "metadata": {
      "tags": []
     },
     "execution_count": 56
    }
   ]
  },
  {
   "cell_type": "code",
   "metadata": {
    "colab": {
     "base_uri": "https://localhost:8080/"
    },
    "id": "UA_r7sUfduCH",
    "outputId": "2d394a4d-4eeb-4887-d91c-ae62fcfba9e6"
   },
   "source": [
    "np.max(resized_images)"
   ],
   "execution_count": 57,
   "outputs": [
    {
     "output_type": "execute_result",
     "data": {
      "text/plain": [
       "1.0"
      ]
     },
     "metadata": {
      "tags": []
     },
     "execution_count": 57
    }
   ]
  },
  {
   "cell_type": "code",
   "metadata": {
    "id": "s7ll2xr7dzt7"
   },
   "source": [
    ""
   ],
   "execution_count": null,
   "outputs": []
  }
 ]
}