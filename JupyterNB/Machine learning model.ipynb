{
 "cells": [
  {
   "cell_type": "markdown",
   "metadata": {},
   "source": [
    "# Imports\n"
   ]
  },
  {
   "cell_type": "code",
   "execution_count": 144,
   "metadata": {
    "ExecuteTime": {
     "end_time": "2021-06-05T09:22:08.416383Z",
     "start_time": "2021-06-05T09:22:08.409204Z"
    },
    "run_control": {
     "marked": true
    },
    "scrolled": false
   },
   "outputs": [],
   "source": [
    "import numpy as np\n",
    "import matplotlib.pyplot as plt\n",
    "from sklearn.decomposition import PCA\n",
    "from sklearn.model_selection import train_test_split\n",
    "from sklearn.model_selection import GridSearchCV\n",
    "from sklearn.svm import SVC\n",
    "from sklearn.metrics import f1_score, accuracy_score\n",
    "import pickle"
   ]
  },
  {
   "cell_type": "markdown",
   "metadata": {},
   "source": [
    "# Loading and exploaring data"
   ]
  },
  {
   "cell_type": "markdown",
   "metadata": {
    "ExecuteTime": {
     "end_time": "2021-06-01T09:21:39.003237Z",
     "start_time": "2021-06-01T09:21:38.832236Z"
    }
   },
   "source": [
    "## Loading data"
   ]
  },
  {
   "cell_type": "code",
   "execution_count": 145,
   "metadata": {
    "ExecuteTime": {
     "end_time": "2021-06-05T09:22:11.081338Z",
     "start_time": "2021-06-05T09:22:10.636712Z"
    }
   },
   "outputs": [],
   "source": [
    "eye_images = np.load('../eye_images.npy')\n",
    "eye_images_flattened = eye_images.reshape(84898, 28*28)\n",
    "eye_states = np.load('../eye_states.npy')"
   ]
  },
  {
   "cell_type": "markdown",
   "metadata": {},
   "source": [
    "## Exploring data"
   ]
  },
  {
   "cell_type": "code",
   "execution_count": 3,
   "metadata": {
    "ExecuteTime": {
     "end_time": "2021-06-05T07:20:11.959696Z",
     "start_time": "2021-06-05T07:20:11.952298Z"
    }
   },
   "outputs": [
    {
     "name": "stdout",
     "output_type": "stream",
     "text": [
      "eye_images shape : (84898, 28, 28)\n",
      "eye_images_flattened shape : (84898, 784)\n",
      "eye_states shape : (84898,)\n"
     ]
    }
   ],
   "source": [
    "print(f'eye_images shape : {eye_images.shape}')\n",
    "print(f'eye_images_flattened shape : {eye_images_flattened.shape}')\n",
    "print(f'eye_states shape : {eye_states.shape}')"
   ]
  },
  {
   "cell_type": "code",
   "execution_count": 4,
   "metadata": {
    "ExecuteTime": {
     "end_time": "2021-06-05T07:20:14.026012Z",
     "start_time": "2021-06-05T07:20:14.005262Z"
    }
   },
   "outputs": [
    {
     "data": {
      "text/plain": [
       "array([[[0.15728291, 0.18431373, 0.18809524, ..., 0.36078431,\n",
       "         0.3570028 , 0.3570078 ],\n",
       "        [0.16120448, 0.18393858, 0.18431373, ..., 0.36505102,\n",
       "         0.36862745, 0.3687525 ],\n",
       "        [0.16036415, 0.17689076, 0.18766006, ..., 0.37127351,\n",
       "         0.37779612, 0.36554622],\n",
       "        ...,\n",
       "        [0.22058824, 0.24467787, 0.2672419 , ..., 0.28107743,\n",
       "         0.29719888, 0.31291016],\n",
       "        [0.21638655, 0.24005602, 0.26064426, ..., 0.28157763,\n",
       "         0.29761905, 0.31008403],\n",
       "        [0.20839836, 0.24046118, 0.26344538, ..., 0.29327731,\n",
       "         0.30532213, 0.30980392]],\n",
       "\n",
       "       [[0.34901961, 0.34901961, 0.34509804, ..., 0.22352941,\n",
       "         0.20392157, 0.19607843],\n",
       "        [0.35294118, 0.35686275, 0.36078431, ..., 0.21960784,\n",
       "         0.20392157, 0.19607843],\n",
       "        [0.37254902, 0.36470588, 0.37647059, ..., 0.22352941,\n",
       "         0.20392157, 0.19215686],\n",
       "        ...,\n",
       "        [0.25490196, 0.25098039, 0.2627451 , ..., 0.27058824,\n",
       "         0.26666667, 0.25490196],\n",
       "        [0.25098039, 0.25490196, 0.25490196, ..., 0.27058824,\n",
       "         0.2627451 , 0.25490196],\n",
       "        [0.25098039, 0.24705882, 0.25098039, ..., 0.2627451 ,\n",
       "         0.25490196, 0.24705882]],\n",
       "\n",
       "       [[0.18431373, 0.18431373, 0.19502801, ..., 0.35701656,\n",
       "         0.35290741, 0.35686275],\n",
       "        [0.18102241, 0.18431373, 0.19110644, ..., 0.36407563,\n",
       "         0.36354667, 0.36470588],\n",
       "        [0.18326331, 0.18519533, 0.18900435, ..., 0.3657563 ,\n",
       "         0.37406087, 0.37249275],\n",
       "        ...,\n",
       "        [0.25077031, 0.26603641, 0.28130252, ..., 0.27556022,\n",
       "         0.29415891, 0.30896359],\n",
       "        [0.25532213, 0.26603641, 0.28130252, ..., 0.27556022,\n",
       "         0.28690476, 0.30280112],\n",
       "        [0.25057148, 0.26540616, 0.2745098 , ..., 0.27661064,\n",
       "         0.29478166, 0.31372549]],\n",
       "\n",
       "       ...,\n",
       "\n",
       "       [[0.22352941, 0.23711485, 0.24789916, ..., 0.38907563,\n",
       "         0.38319328, 0.38893557],\n",
       "        [0.22133353, 0.23809024, 0.24957983, ..., 0.38067227,\n",
       "         0.38543918, 0.37959684],\n",
       "        [0.21918768, 0.23459384, 0.24234194, ..., 0.35210084,\n",
       "         0.3562475 , 0.35644258],\n",
       "        ...,\n",
       "        [0.242512  , 0.24929972, 0.26396058, ..., 0.32591036,\n",
       "         0.32344438, 0.32086835],\n",
       "        [0.23641457, 0.250005  , 0.26086935, ..., 0.33773009,\n",
       "         0.32828631, 0.32086835],\n",
       "        [0.23401861, 0.24495798, 0.25252101, ..., 0.3412515 ,\n",
       "         0.33053221, 0.32156863]],\n",
       "\n",
       "       [[0.32256903, 0.31894758, 0.31398559, ..., 0.08993597,\n",
       "         0.08889556, 0.09501801],\n",
       "        [0.31372549, 0.31372549, 0.30840336, ..., 0.09259704,\n",
       "         0.08629452, 0.09029612],\n",
       "        [0.30614246, 0.30420168, 0.29317727, ..., 0.09271709,\n",
       "         0.08207283, 0.07927171],\n",
       "        ...,\n",
       "        [0.20922369, 0.23159264, 0.24789916, ..., 0.13893557,\n",
       "         0.10812325, 0.09327731],\n",
       "        [0.21176471, 0.23053221, 0.2447579 , ..., 0.14055622,\n",
       "         0.10896359, 0.09411765],\n",
       "        [0.21036415, 0.22314926, 0.24089636, ..., 0.13779512,\n",
       "         0.10906363, 0.09411765]],\n",
       "\n",
       "       [[0.22282913, 0.23893557, 0.2557423 , ..., 0.3964986 ,\n",
       "         0.38884054, 0.39145658],\n",
       "        [0.22282913, 0.23963085, 0.25532213, ..., 0.38809524,\n",
       "         0.39328231, 0.38711485],\n",
       "        [0.21856242, 0.23832033, 0.24663866, ..., 0.36302521,\n",
       "         0.37086835, 0.36316527],\n",
       "        ...,\n",
       "        [0.24677871, 0.25714286, 0.26358543, ..., 0.32586535,\n",
       "         0.32386455, 0.32094338],\n",
       "        [0.23641457, 0.25070028, 0.25918868, ..., 0.32610544,\n",
       "         0.3254902 , 0.32156863],\n",
       "        [0.23851541, 0.24495798, 0.2557423 , ..., 0.32591036,\n",
       "         0.32698579, 0.32156863]]])"
      ]
     },
     "execution_count": 4,
     "metadata": {},
     "output_type": "execute_result"
    }
   ],
   "source": [
    "eye_images"
   ]
  },
  {
   "cell_type": "code",
   "execution_count": 5,
   "metadata": {
    "ExecuteTime": {
     "end_time": "2021-06-01T16:39:20.564286Z",
     "start_time": "2021-06-01T16:39:20.558229Z"
    }
   },
   "outputs": [
    {
     "data": {
      "text/plain": [
       "array([[0.15728291, 0.18431373, 0.18809524, ..., 0.29327731, 0.30532213,\n",
       "        0.30980392],\n",
       "       [0.34901961, 0.34901961, 0.34509804, ..., 0.2627451 , 0.25490196,\n",
       "        0.24705882],\n",
       "       [0.18431373, 0.18431373, 0.19502801, ..., 0.27661064, 0.29478166,\n",
       "        0.31372549],\n",
       "       ...,\n",
       "       [0.22352941, 0.23711485, 0.24789916, ..., 0.3412515 , 0.33053221,\n",
       "        0.32156863],\n",
       "       [0.32256903, 0.31894758, 0.31398559, ..., 0.13779512, 0.10906363,\n",
       "        0.09411765],\n",
       "       [0.22282913, 0.23893557, 0.2557423 , ..., 0.32591036, 0.32698579,\n",
       "        0.32156863]])"
      ]
     },
     "execution_count": 5,
     "metadata": {},
     "output_type": "execute_result"
    }
   ],
   "source": [
    "eye_images_flattened"
   ]
  },
  {
   "cell_type": "code",
   "execution_count": 5,
   "metadata": {
    "ExecuteTime": {
     "end_time": "2021-06-03T16:57:06.164853Z",
     "start_time": "2021-06-03T16:57:06.160031Z"
    }
   },
   "outputs": [
    {
     "data": {
      "text/plain": [
       "array([0, 0, 0, ..., 1, 1, 1])"
      ]
     },
     "execution_count": 5,
     "metadata": {},
     "output_type": "execute_result"
    }
   ],
   "source": [
    "eye_states"
   ]
  },
  {
   "cell_type": "markdown",
   "metadata": {},
   "source": [
    "# Reducing dimension"
   ]
  },
  {
   "cell_type": "code",
   "execution_count": 6,
   "metadata": {
    "ExecuteTime": {
     "end_time": "2021-06-05T07:20:46.426015Z",
     "start_time": "2021-06-05T07:20:39.221276Z"
    }
   },
   "outputs": [
    {
     "data": {
      "text/plain": [
       "(84898, 150)"
      ]
     },
     "execution_count": 6,
     "metadata": {},
     "output_type": "execute_result"
    }
   ],
   "source": [
    "pca = PCA(n_components=150)\n",
    "eye_images_reduced = pca.fit_transform(eye_images_flattened)\n",
    "eye_images_reduced.shape"
   ]
  },
  {
   "cell_type": "code",
   "execution_count": 7,
   "metadata": {
    "ExecuteTime": {
     "end_time": "2021-06-05T07:20:46.443429Z",
     "start_time": "2021-06-05T07:20:46.441244Z"
    }
   },
   "outputs": [
    {
     "data": {
      "text/plain": [
       "(150, 784)"
      ]
     },
     "execution_count": 7,
     "metadata": {},
     "output_type": "execute_result"
    }
   ],
   "source": [
    "pca.components_.shape"
   ]
  },
  {
   "cell_type": "code",
   "execution_count": 8,
   "metadata": {
    "ExecuteTime": {
     "end_time": "2021-06-03T16:57:18.873737Z",
     "start_time": "2021-06-03T16:57:18.847280Z"
    }
   },
   "outputs": [
    {
     "data": {
      "text/plain": [
       "array([0.04026231, 0.04079022, 0.04125397, 0.04154411, 0.04172708,\n",
       "       0.04190038, 0.04203269, 0.04193094, 0.04183138, 0.04186579,\n",
       "       0.04182505, 0.04186331, 0.04206789, 0.04225215, 0.04249447,\n",
       "       0.04294759, 0.04353399, 0.0441506 , 0.04451896, 0.04461841,\n",
       "       0.04443238, 0.04429903, 0.04462262, 0.0454372 , 0.04622638,\n",
       "       0.04670938, 0.04670536, 0.04624188, 0.04014402, 0.04045655,\n",
       "       0.04045599, 0.04021715, 0.04002532, 0.0399097 , 0.03962534,\n",
       "       0.03911984, 0.0387121 , 0.0383781 , 0.03805655, 0.03792206,\n",
       "       0.03782335, 0.03772391, 0.03786378, 0.03844813, 0.03929132,\n",
       "       0.03990625, 0.04018517, 0.04038638, 0.04053884, 0.04062993,\n",
       "       0.0409896 , 0.04191048, 0.04313433, 0.04423159, 0.04488396,\n",
       "       0.04501262, 0.039671  , 0.03936374, 0.03856828, 0.03751864,\n",
       "       0.03658265, 0.03592986, 0.03525334, 0.03443841, 0.03378749,\n",
       "       0.03337129, 0.03319493, 0.03299332, 0.03274226, 0.03257395,\n",
       "       0.0327533 , 0.0335325 , 0.03445187, 0.03498185, 0.03525009,\n",
       "       0.03554797, 0.03596126, 0.03638627, 0.03692062, 0.03777579,\n",
       "       0.03915256, 0.04061753, 0.04192914, 0.04275998, 0.03819683,\n",
       "       0.03718908, 0.03564439, 0.03375993, 0.03223598, 0.03127392,\n",
       "       0.03036945, 0.02950141, 0.02903845, 0.02915873, 0.02932619,\n",
       "       0.02935978, 0.02946827, 0.02976855, 0.03029983, 0.03106584,\n",
       "       0.03162404, 0.03189264, 0.0321713 , 0.03240291, 0.03274572,\n",
       "       0.03326066, 0.03397032, 0.03469166, 0.0355507 , 0.03695384,\n",
       "       0.03854661, 0.03996298, 0.03597002, 0.03447868, 0.03266034,\n",
       "       0.03088686, 0.0294361 , 0.02843588, 0.02777589, 0.02748325,\n",
       "       0.02794689, 0.02876316, 0.02914857, 0.02950621, 0.03017244,\n",
       "       0.03090753, 0.0316296 , 0.03221355, 0.03233688, 0.03201806,\n",
       "       0.03185411, 0.03201025, 0.03230571, 0.03271015, 0.03321177,\n",
       "       0.03382242, 0.03433296, 0.03507929, 0.03642814, 0.03781809,\n",
       "       0.03416584, 0.03283092, 0.03148525, 0.03035295, 0.02953897,\n",
       "       0.02903654, 0.02894748, 0.02951105, 0.03087082, 0.03228216,\n",
       "       0.03338254, 0.03458895, 0.03590488, 0.03686051, 0.03740214,\n",
       "       0.03793737, 0.03812798, 0.03761808, 0.03689323, 0.03619965,\n",
       "       0.0355072 , 0.03495021, 0.03468905, 0.03475268, 0.03504151,\n",
       "       0.03541046, 0.03619165, 0.03720101, 0.03390876, 0.03303651,\n",
       "       0.03230655, 0.03185472, 0.03182106, 0.03212293, 0.03290105,\n",
       "       0.03422602, 0.03598822, 0.03786458, 0.03959628, 0.04144035,\n",
       "       0.04314245, 0.04414634, 0.04458142, 0.04479878, 0.0447485 ,\n",
       "       0.04441505, 0.04378752, 0.04289206, 0.04165961, 0.04019806,\n",
       "       0.03888088, 0.03798245, 0.03739595, 0.03710782, 0.03724516,\n",
       "       0.03763642, 0.03397433, 0.0335637 , 0.03315206, 0.03300332,\n",
       "       0.03336669, 0.03405597, 0.03525551, 0.03680683, 0.03862751,\n",
       "       0.04052049, 0.04221015, 0.0437514 , 0.04494493, 0.04570245,\n",
       "       0.0461113 , 0.04615863, 0.04598807, 0.04575258, 0.04545801,\n",
       "       0.04508542, 0.04454198, 0.04377955, 0.04300276, 0.04220674,\n",
       "       0.04115398, 0.03998562, 0.03916018, 0.0385985 , 0.03248545,\n",
       "       0.03265627, 0.03270497, 0.03281903, 0.03344582, 0.03427878,\n",
       "       0.03539064, 0.03685969, 0.03852717, 0.04005516, 0.04133982,\n",
       "       0.04232575, 0.04304132, 0.04360697, 0.04401576, 0.04411485,\n",
       "       0.04404361, 0.04391076, 0.04375681, 0.04367293, 0.04381373,\n",
       "       0.04416045, 0.04442985, 0.0443225 , 0.04361553, 0.04246373,\n",
       "       0.04111024, 0.03971297, 0.0326647 , 0.0336957 , 0.03453822,\n",
       "       0.03492316, 0.03552188, 0.03598896, 0.03648943, 0.03723409,\n",
       "       0.03802456, 0.03864547, 0.03915599, 0.03948968, 0.03977536,\n",
       "       0.04009096, 0.0403169 , 0.04033   , 0.04026514, 0.04021543,\n",
       "       0.04013824, 0.04017307, 0.04071397, 0.04165787, 0.04241316,\n",
       "       0.04269043, 0.04252155, 0.041868  , 0.04074526, 0.03922297,\n",
       "       0.03395077, 0.03556689, 0.03656788, 0.03660033, 0.03631345,\n",
       "       0.03549785, 0.03464178, 0.03413182, 0.0338515 , 0.03363951,\n",
       "       0.03348731, 0.03339184, 0.03342778, 0.03338531, 0.03337006,\n",
       "       0.03346282, 0.03375673, 0.03411348, 0.03450154, 0.03516904,\n",
       "       0.03648451, 0.03802415, 0.03895167, 0.03932516, 0.03947789,\n",
       "       0.03921876, 0.03836919, 0.03685876, 0.03488077, 0.03713413,\n",
       "       0.03835471, 0.03797434, 0.03678026, 0.03529757, 0.03373028,\n",
       "       0.03250444, 0.03157362, 0.03053174, 0.02949441, 0.02896554,\n",
       "       0.02887431, 0.02869941, 0.02852987, 0.02861121, 0.02899954,\n",
       "       0.02954545, 0.03035952, 0.0321505 , 0.03504846, 0.03777939,\n",
       "       0.03938847, 0.0400085 , 0.04013366, 0.03987189, 0.03897355,\n",
       "       0.03726316, 0.03643321, 0.0388423 , 0.04022281, 0.0397955 ,\n",
       "       0.03840992, 0.03651772, 0.03446313, 0.03160683, 0.02873323,\n",
       "       0.02613045, 0.02396787, 0.0232122 , 0.02289734, 0.02227641,\n",
       "       0.02181968, 0.02183651, 0.02267878, 0.02387441, 0.02538076,\n",
       "       0.02794806, 0.03193248, 0.03594214, 0.03885824, 0.04068081,\n",
       "       0.04158267, 0.0415737 , 0.0405513 , 0.03879426, 0.037712  ,\n",
       "       0.03998456, 0.04112861, 0.04124508, 0.03971421, 0.03670513,\n",
       "       0.03303034, 0.02841567, 0.02449956, 0.0217    , 0.01997905,\n",
       "       0.01956685, 0.01961143, 0.01909892, 0.01840984, 0.01818128,\n",
       "       0.01889725, 0.02017871, 0.021987  , 0.02505014, 0.02948482,\n",
       "       0.03340533, 0.03630687, 0.03895099, 0.04101812, 0.04177085,\n",
       "       0.04098742, 0.0394309 , 0.03780516, 0.03977669, 0.04093488,\n",
       "       0.04108066, 0.03912881, 0.03541583, 0.03087238, 0.02636707,\n",
       "       0.02260505, 0.02015522, 0.0191163 , 0.01929606, 0.02062597,\n",
       "       0.02050209, 0.01923249, 0.01876634, 0.0197798 , 0.02058473,\n",
       "       0.02167494, 0.02334642, 0.02707951, 0.03147555, 0.03411487,\n",
       "       0.0364346 , 0.03853401, 0.03978094, 0.03999506, 0.03938904,\n",
       "       0.03659797, 0.03832925, 0.03928997, 0.03915988, 0.03733875,\n",
       "       0.03367805, 0.02939943, 0.0259666 , 0.02229951, 0.01987965,\n",
       "       0.01943163, 0.02037519, 0.02296392, 0.02318665, 0.02105577,\n",
       "       0.01952737, 0.0198845 , 0.02044474, 0.02160542, 0.02207976,\n",
       "       0.02404371, 0.02778111, 0.03127198, 0.03403359, 0.03592119,\n",
       "       0.03735865, 0.03826842, 0.03849969, 0.03456568, 0.03619724,\n",
       "       0.03688679, 0.03652987, 0.03483461, 0.03175194, 0.02829776,\n",
       "       0.02571497, 0.02301933, 0.0207967 , 0.02073519, 0.02120806,\n",
       "       0.02182918, 0.02192063, 0.0205639 , 0.01926145, 0.01885584,\n",
       "       0.0198194 , 0.0210709 , 0.02182567, 0.02338379, 0.02568371,\n",
       "       0.02855494, 0.03175726, 0.03438548, 0.03633571, 0.03746124,\n",
       "       0.03775615, 0.03257492, 0.03413438, 0.03496218, 0.03526066,\n",
       "       0.03383933, 0.0310232 , 0.02875205, 0.02705644, 0.02533556,\n",
       "       0.02326944, 0.02234985, 0.02203535, 0.02150395, 0.02069965,\n",
       "       0.01987187, 0.0196452 , 0.02004806, 0.02106704, 0.02211037,\n",
       "       0.02332644, 0.02525132, 0.02762542, 0.02953105, 0.0314751 ,\n",
       "       0.03397386, 0.03642528, 0.03788171, 0.03811282, 0.03111068,\n",
       "       0.03253616, 0.03344135, 0.03432071, 0.03406519, 0.03235147,\n",
       "       0.03095646, 0.0299684 , 0.02889824, 0.02735875, 0.02570887,\n",
       "       0.02469566, 0.02377914, 0.02291302, 0.02211788, 0.02199045,\n",
       "       0.02295539, 0.02418159, 0.02549353, 0.02732314, 0.02949795,\n",
       "       0.03177828, 0.03341417, 0.03432957, 0.03546732, 0.03714246,\n",
       "       0.03841387, 0.03853924, 0.03002498, 0.03135655, 0.03238589,\n",
       "       0.03355641, 0.03448391, 0.03438747, 0.03378258, 0.03330216,\n",
       "       0.03278177, 0.03206232, 0.03105255, 0.03001401, 0.02893816,\n",
       "       0.02777718, 0.02693363, 0.02690901, 0.0277717 , 0.02920015,\n",
       "       0.03084759, 0.03268596, 0.03455244, 0.03613525, 0.03732142,\n",
       "       0.03812143, 0.03844851, 0.03856126, 0.03857664, 0.03828176,\n",
       "       0.02888594, 0.03033566, 0.03180434, 0.03323487, 0.0346066 ,\n",
       "       0.03554467, 0.03577611, 0.0357959 , 0.03579093, 0.0357259 ,\n",
       "       0.03563189, 0.03523296, 0.03449746, 0.03342382, 0.03259741,\n",
       "       0.03247752, 0.03309504, 0.0343688 , 0.03560674, 0.03680894,\n",
       "       0.03794324, 0.03886564, 0.03958149, 0.04004892, 0.04016261,\n",
       "       0.03964747, 0.03874988, 0.03791043, 0.0280258 , 0.02964783,\n",
       "       0.03130243, 0.0327074 , 0.03398151, 0.0351215 , 0.03598275,\n",
       "       0.03671577, 0.03726315, 0.03765585, 0.03799752, 0.03806021,\n",
       "       0.03765988, 0.03695648, 0.03635195, 0.03630846, 0.03683062,\n",
       "       0.03776888, 0.03876208, 0.03948777, 0.03995931, 0.04033174,\n",
       "       0.04060015, 0.04062283, 0.04038622, 0.03974608, 0.03881077,\n",
       "       0.03789926, 0.02771877, 0.02931553, 0.03094254, 0.03231232,\n",
       "       0.03323217, 0.03405864, 0.03511307, 0.03634505, 0.03748184,\n",
       "       0.03836245, 0.03903606, 0.03938247, 0.03936581, 0.03912247,\n",
       "       0.03892181, 0.03907791, 0.03958074, 0.04019261, 0.04087416,\n",
       "       0.0413534 , 0.04140281, 0.04122052, 0.0410233 , 0.04066575,\n",
       "       0.04008265, 0.03940692, 0.03866593, 0.0379868 , 0.02789468,\n",
       "       0.02921933, 0.03113706, 0.03223362, 0.03285178, 0.03333527,\n",
       "       0.03420364, 0.03551084, 0.03704987, 0.03845533, 0.0395104 ,\n",
       "       0.0402346 , 0.04061555, 0.04080021, 0.04091799, 0.04113351,\n",
       "       0.04149374, 0.04192312, 0.04224111, 0.04229442, 0.04199124,\n",
       "       0.04146582, 0.0409057 , 0.04028042, 0.03964852, 0.03914859,\n",
       "       0.03858507, 0.03808299, 0.02855016, 0.02948693, 0.0312405 ,\n",
       "       0.03245689, 0.03296721, 0.03322282, 0.03374212, 0.03482734,\n",
       "       0.03628319, 0.03794813, 0.03936459, 0.04039753, 0.04112402,\n",
       "       0.04157594, 0.04185589, 0.0420514 , 0.04222508, 0.04241223,\n",
       "       0.04252579, 0.04235135, 0.04186599, 0.04114631, 0.04038971,\n",
       "       0.03978098, 0.03937821, 0.03908858, 0.0386808 , 0.03823171,\n",
       "       0.02935325, 0.03020146, 0.03135241, 0.03273671, 0.03338547,\n",
       "       0.03356589, 0.03392316, 0.03458851, 0.03557743, 0.03706682,\n",
       "       0.0386234 , 0.03984295, 0.04076805, 0.04133904, 0.04169104,\n",
       "       0.04189586, 0.04198516, 0.04202628, 0.04203153, 0.04175148,\n",
       "       0.04124192, 0.04059097, 0.03996087, 0.03961621, 0.03943908,\n",
       "       0.03922681, 0.03892642, 0.03855186, 0.03014592, 0.03099248,\n",
       "       0.03181996, 0.03307867, 0.03391342, 0.03418876, 0.03451991,\n",
       "       0.03491423, 0.0354129 , 0.03638651, 0.03771666, 0.03904411,\n",
       "       0.04014331, 0.04076557, 0.04113307, 0.04133024, 0.0413792 ,\n",
       "       0.04134346"
      ]
     },
     "execution_count": 8,
     "metadata": {},
     "output_type": "execute_result"
    },
    {
     "data": {
      "text/html": [
       "<b>limit_output extension: Maximum message size of 10000 exceeded with 10507 characters</b>"
      ]
     },
     "metadata": {},
     "output_type": "display_data"
    }
   ],
   "source": [
    "pca.components_[0]"
   ]
  },
  {
   "cell_type": "markdown",
   "metadata": {},
   "source": [
    "# Exploring principal components"
   ]
  },
  {
   "cell_type": "code",
   "execution_count": 9,
   "metadata": {
    "ExecuteTime": {
     "end_time": "2021-06-03T16:57:20.999829Z",
     "start_time": "2021-06-03T16:57:20.929004Z"
    }
   },
   "outputs": [
    {
     "data": {
      "text/plain": [
       "(784,)"
      ]
     },
     "execution_count": 9,
     "metadata": {},
     "output_type": "execute_result"
    }
   ],
   "source": [
    "np.mean(eye_images_flattened,axis=0).shape"
   ]
  },
  {
   "cell_type": "code",
   "execution_count": 10,
   "metadata": {
    "ExecuteTime": {
     "end_time": "2021-06-03T16:57:22.182630Z",
     "start_time": "2021-06-03T16:57:22.040992Z"
    }
   },
   "outputs": [
    {
     "data": {
      "image/png": "[encoded data removed]",
      "text/plain": [
       "<Figure size 432x288 with 1 Axes>"
      ]
     },
     "metadata": {
      "needs_background": "light"
     },
     "output_type": "display_data"
    }
   ],
   "source": [
    "plt.imshow(np.mean(eye_images_flattened,axis=0).reshape((28,28)), cmap='gray');"
   ]
  },
  {
   "cell_type": "code",
   "execution_count": 11,
   "metadata": {
    "ExecuteTime": {
     "end_time": "2021-06-03T16:57:26.248728Z",
     "start_time": "2021-06-03T16:57:26.129828Z"
    }
   },
   "outputs": [
    {
     "data": {
      "image/png": "[encoded data removed]",
      "text/plain": [
       "<Figure size 432x288 with 1 Axes>"
      ]
     },
     "metadata": {
      "needs_background": "light"
     },
     "output_type": "display_data"
    }
   ],
   "source": [
    "plt.imshow(pca.mean_.reshape((28,28)), cmap='gray');"
   ]
  },
  {
   "cell_type": "code",
   "execution_count": 12,
   "metadata": {
    "ExecuteTime": {
     "end_time": "2021-06-03T16:57:28.143142Z",
     "start_time": "2021-06-03T16:57:28.137643Z"
    }
   },
   "outputs": [
    {
     "data": {
      "text/plain": [
       "(784,)"
      ]
     },
     "execution_count": 12,
     "metadata": {},
     "output_type": "execute_result"
    }
   ],
   "source": [
    "pca.components_[0].shape"
   ]
  },
  {
   "cell_type": "code",
   "execution_count": 13,
   "metadata": {
    "ExecuteTime": {
     "end_time": "2021-06-03T16:57:29.708568Z",
     "start_time": "2021-06-03T16:57:29.152561Z"
    }
   },
   "outputs": [
    {
     "data": {
      "image/png": "[encoded data removed]",
      "text/plain": [
       "<Figure size 1080x1440 with 10 Axes>"
      ]
     },
     "metadata": {
      "needs_background": "light"
     },
     "output_type": "display_data"
    }
   ],
   "source": [
    "# Use a coolwarm map (warm = positive)\n",
    "fig = plt.figure(figsize=(15,20))\n",
    "for i in range(10):\n",
    "    plt.subplot(5, 5, i + 1)\n",
    "    plt.title(f'PC {i+1}', size=12)\n",
    "    plt.imshow(pca.components_[i].reshape(28,28), cmap=plt.cm.coolwarm)"
   ]
  },
  {
   "cell_type": "code",
   "execution_count": 14,
   "metadata": {
    "ExecuteTime": {
     "end_time": "2021-06-03T16:57:35.266601Z",
     "start_time": "2021-06-03T16:57:35.150910Z"
    }
   },
   "outputs": [
    {
     "data": {
      "text/plain": [
       "<matplotlib.image.AxesImage at 0x175a7c6a0>"
      ]
     },
     "execution_count": 14,
     "metadata": {},
     "output_type": "execute_result"
    },
    {
     "data": {
      "image/png": "[encoded data removed]",
      "text/plain": [
       "<Figure size 432x288 with 1 Axes>"
      ]
     },
     "metadata": {
      "needs_background": "light"
     },
     "output_type": "display_data"
    }
   ],
   "source": [
    "# Last PCs\n",
    "plt.imshow(pca.components_[-1].reshape(28,28), cmap=plt.cm.coolwarm)"
   ]
  },
  {
   "cell_type": "markdown",
   "metadata": {},
   "source": [
    "# Choosing the number of components"
   ]
  },
  {
   "cell_type": "code",
   "execution_count": 15,
   "metadata": {
    "ExecuteTime": {
     "end_time": "2021-06-03T16:57:37.713130Z",
     "start_time": "2021-06-03T16:57:37.576879Z"
    }
   },
   "outputs": [
    {
     "data": {
      "image/png": "[encoded data removed]",
      "text/plain": [
       "<Figure size 432x288 with 1 Axes>"
      ]
     },
     "metadata": {
      "needs_background": "light"
     },
     "output_type": "display_data"
    }
   ],
   "source": [
    "plt.plot(np.cumsum(pca.explained_variance_ratio_))\n",
    "plt.xlabel('number of components')\n",
    "plt.ylabel('cumulative explained variance')\n",
    "plt.grid()\n",
    "plt.show()"
   ]
  },
  {
   "cell_type": "code",
   "execution_count": 8,
   "metadata": {
    "ExecuteTime": {
     "end_time": "2021-06-05T07:20:46.465672Z",
     "start_time": "2021-06-05T07:20:46.462501Z"
    }
   },
   "outputs": [
    {
     "data": {
      "text/plain": [
       "3"
      ]
     },
     "execution_count": 8,
     "metadata": {},
     "output_type": "execute_result"
    }
   ],
   "source": [
    "cumulated_variance = np.cumsum(pca.explained_variance_ratio_)\n",
    "minimal_pc_count = len(cumulated_variance[cumulated_variance <= 0.8]) + 1 # fill with the right answer\n",
    "minimal_pc_count"
   ]
  },
  {
   "cell_type": "markdown",
   "metadata": {},
   "source": [
    "# Modeling"
   ]
  },
  {
   "cell_type": "markdown",
   "metadata": {
    "ExecuteTime": {
     "end_time": "2021-06-01T17:48:20.444014Z",
     "start_time": "2021-06-01T17:48:20.018510Z"
    }
   },
   "source": [
    "## Train test split"
   ]
  },
  {
   "cell_type": "code",
   "execution_count": 9,
   "metadata": {
    "ExecuteTime": {
     "end_time": "2021-06-05T07:20:49.820880Z",
     "start_time": "2021-06-05T07:20:49.642323Z"
    }
   },
   "outputs": [],
   "source": [
    "X = eye_images_flattened\n",
    "y = eye_states\n",
    "X_train, X_test, y_train, y_test = train_test_split(X, y, test_size=0.3)"
   ]
  },
  {
   "cell_type": "markdown",
   "metadata": {},
   "source": [
    "## Reducing dimension"
   ]
  },
  {
   "cell_type": "code",
   "execution_count": 146,
   "metadata": {
    "ExecuteTime": {
     "end_time": "2021-06-05T09:22:21.451545Z",
     "start_time": "2021-06-05T09:22:18.192076Z"
    }
   },
   "outputs": [],
   "source": [
    "pca = PCA(n_components=20).fit(X_train)\n",
    "X_train_transformed = pca.transform(X_train)\n",
    "X_test_transformed = pca.transform(X_test)"
   ]
  },
  {
   "cell_type": "markdown",
   "metadata": {},
   "source": [
    "## Cross validation"
   ]
  },
  {
   "cell_type": "code",
   "execution_count": 89,
   "metadata": {
    "ExecuteTime": {
     "end_time": "2021-06-05T08:22:30.510253Z",
     "start_time": "2021-06-05T08:22:30.488398Z"
    }
   },
   "outputs": [
    {
     "name": "stdout",
     "output_type": "stream",
     "text": [
      "(59428, 3)\n",
      "(29714, 3)\n",
      "(29714,)\n",
      "<class 'numpy.ndarray'>\n",
      "<class 'numpy.ndarray'>\n"
     ]
    }
   ],
   "source": [
    "reduction_factor = 10\n",
    "\n",
    "idx_train =  np.random.choice(len(X_train_transformed), round(len(X_train_transformed)/reduction_factor))\n",
    "images_train_small = X_train_transformed[idx_train]\n",
    "labels_train_small = y_train[idx_train]\n",
    "\n",
    "print(X_train_transformed.shape)\n",
    "print(images_train_small.shape)\n",
    "print(labels_train_small.shape)\n",
    "print(type(images_train_small))\n",
    "print(type(labels_train_small))"
   ]
  },
  {
   "cell_type": "code",
   "execution_count": 90,
   "metadata": {
    "ExecuteTime": {
     "end_time": "2021-06-05T08:22:40.046732Z",
     "start_time": "2021-06-05T08:22:40.040281Z"
    }
   },
   "outputs": [],
   "source": [
    "param_grid = {\n",
    "    \"kernel\": [\"rbf\"],\n",
    "    \"C\": [100, 5000],\n",
    "    \"gamma\": [0.01, 0.1],\n",
    "}\n",
    "test = GridSearchCV(SVC(class_weight=\"balanced\"), param_grid, cv=5, n_jobs=-1, scoring='f1_weighted')"
   ]
  },
  {
   "cell_type": "code",
   "execution_count": 91,
   "metadata": {
    "ExecuteTime": {
     "end_time": "2021-06-05T08:29:00.062749Z",
     "start_time": "2021-06-05T08:22:41.716347Z"
    }
   },
   "outputs": [],
   "source": [
    "test = model.fit(images_train_small, labels_train_small)"
   ]
  },
  {
   "cell_type": "code",
   "execution_count": 92,
   "metadata": {
    "ExecuteTime": {
     "end_time": "2021-06-05T08:29:04.659598Z",
     "start_time": "2021-06-05T08:29:04.641557Z"
    }
   },
   "outputs": [
    {
     "data": {
      "text/plain": [
       "{'C': 5000, 'gamma': 0.1, 'kernel': 'rbf'}"
      ]
     },
     "execution_count": 92,
     "metadata": {},
     "output_type": "execute_result"
    }
   ],
   "source": [
    "test.best_params_"
   ]
  },
  {
   "cell_type": "code",
   "execution_count": 147,
   "metadata": {
    "ExecuteTime": {
     "end_time": "2021-06-05T09:22:31.548808Z",
     "start_time": "2021-06-05T09:22:31.544785Z"
    }
   },
   "outputs": [],
   "source": [
    "model = SVC(class_weight=\"balanced\", kernel=\"rbf\", C=5000, gamma=0.1)"
   ]
  },
  {
   "cell_type": "code",
   "execution_count": 148,
   "metadata": {
    "ExecuteTime": {
     "end_time": "2021-06-05T09:25:13.061754Z",
     "start_time": "2021-06-05T09:22:33.492287Z"
    }
   },
   "outputs": [
    {
     "data": {
      "text/plain": [
       "SVC(C=5000, class_weight='balanced', gamma=0.1)"
      ]
     },
     "execution_count": 148,
     "metadata": {},
     "output_type": "execute_result"
    }
   ],
   "source": [
    "model.fit(X_train_transformed,y_train)"
   ]
  },
  {
   "cell_type": "code",
   "execution_count": 149,
   "metadata": {
    "ExecuteTime": {
     "end_time": "2021-06-05T09:26:55.859371Z",
     "start_time": "2021-06-05T09:26:46.496981Z"
    }
   },
   "outputs": [],
   "source": [
    "y_pred = model.predict(X_test_transformed)"
   ]
  },
  {
   "cell_type": "code",
   "execution_count": 150,
   "metadata": {
    "ExecuteTime": {
     "end_time": "2021-06-05T09:27:05.308286Z",
     "start_time": "2021-06-05T09:27:05.294208Z"
    }
   },
   "outputs": [
    {
     "data": {
      "text/plain": [
       "0.9809579897919121"
      ]
     },
     "execution_count": 150,
     "metadata": {},
     "output_type": "execute_result"
    }
   ],
   "source": [
    "accuracy_score(y_test, y_pred)"
   ]
  },
  {
   "cell_type": "code",
   "execution_count": 153,
   "metadata": {
    "ExecuteTime": {
     "end_time": "2021-06-05T09:32:30.904528Z",
     "start_time": "2021-06-05T09:32:30.889621Z"
    },
    "run_control": {
     "marked": true
    }
   },
   "outputs": [],
   "source": [
    "with open('PCA_model.pkl', 'wb') as file:\n",
    "    pickle.dump(model, file)"
   ]
  },
  {
   "cell_type": "code",
   "execution_count": 154,
   "metadata": {
    "ExecuteTime": {
     "end_time": "2021-06-05T09:32:32.561243Z",
     "start_time": "2021-06-05T09:32:32.550994Z"
    }
   },
   "outputs": [
    {
     "data": {
      "text/plain": [
       "SVC(C=5000, class_weight='balanced', gamma=0.1)"
      ]
     },
     "execution_count": 154,
     "metadata": {},
     "output_type": "execute_result"
    }
   ],
   "source": [
    "PCA = pickle.load(open('PCA_model.pkl', 'rb'))\n",
    "PCA"
   ]
  }
 ],
 "metadata": {
  "hide_input": false,
  "kernelspec": {
   "display_name": "Python 3",
   "language": "python",
   "name": "python3"
  },
  "language_info": {
   "codemirror_mode": {
    "name": "ipython",
    "version": 3
   },
   "file_extension": ".py",
   "mimetype": "text/x-python",
   "name": "python",
   "nbconvert_exporter": "python",
   "pygments_lexer": "ipython3",
   "version": "3.8.6"
  },
  "latex_envs": {
   "LaTeX_envs_menu_present": true,
   "autoclose": false,
   "autocomplete": true,
   "bibliofile": "biblio.bib",
   "cite_by": "apalike",
   "current_citInitial": 1,
   "eqLabelWithNumbers": true,
   "eqNumInitial": 1,
   "hotkeys": {
    "equation": "Ctrl-E",
    "itemize": "Ctrl-I"
   },
   "labels_anchors": false,
   "latex_user_defs": false,
   "report_style_numbering": false,
   "user_envs_cfg": false
  },
  "nbTranslate": {
   "displayLangs": [
    "*"
   ],
   "hotkey": "alt-t",
   "langInMainMenu": true,
   "sourceLang": "en",
   "targetLang": "fr",
   "useGoogleTranslate": true
  },
  "toc": {
   "base_numbering": 1,
   "nav_menu": {},
   "number_sections": true,
   "sideBar": true,
   "skip_h1_title": true,
   "title_cell": "Table of Contents",
   "title_sidebar": "Contents",
   "toc_cell": false,
   "toc_position": {
    "height": "calc(100% - 180px)",
    "left": "10px",
    "top": "150px",
    "width": "336px"
   },
   "toc_section_display": true,
   "toc_window_display": false
  },
  "varInspector": {
   "cols": {
    "lenName": 16,
    "lenType": 16,
    "lenVar": 40
   },
   "kernels_config": {
    "python": {
     "delete_cmd_postfix": "",
     "delete_cmd_prefix": "del ",
     "library": "var_list.py",
     "varRefreshCmd": "print(var_dic_list())"
    },
    "r": {
     "delete_cmd_postfix": ") ",
     "delete_cmd_prefix": "rm(",
     "library": "var_list.r",
     "varRefreshCmd": "cat(var_dic_list()) "
    }
   },
   "position": {
    "height": "372.969px",
    "left": "1410px",
    "right": "20px",
    "top": "140px",
    "width": "290px"
   },
   "types_to_exclude": [
    "module",
    "function",
    "builtin_function_or_method",
    "instance",
    "_Feature"
   ],
   "window_display": false
  }
 },
 "nbformat": 4,
 "nbformat_minor": 2
}
